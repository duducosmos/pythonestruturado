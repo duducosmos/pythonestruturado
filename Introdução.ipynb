{
 "cells": [
  {
   "cell_type": "markdown",
   "metadata": {},
   "source": [
    "# Introdução"
   ]
  },
  {
   "cell_type": "markdown",
   "metadata": {},
   "source": [
    "1. Formaliza a ideia de dividir em blocos\n",
    "2. Força o programador a saber exatamente o estado do programa antes e depois de cada bloco\n",
    "3. Faz uso de três estruturas de controle para a construção de um programa: Sequência, Seleção e Repetição."
   ]
  },
  {
   "cell_type": "markdown",
   "metadata": {},
   "source": [
    "## Pontos Importantes\n",
    "1. Foi Apresentada no início dos anos de 1970 pelo suíço Niklaus Wirth.\n",
    "2. O domínio da técnica de programação estruturada é a base para aprendizado de outras técnicas de programação, como a programação modular e a orientação a objetos\n",
    "3. Permite que os programas tenham um fluxo de execução de instruções mais claros e que facilita a compreensão lógica do programa\n",
    "4. Além de permitir que o código do programa seja escrito com uma estrutura facilmente reconhecida por quem fará a manutenção do programa\n"
   ]
  },
  {
   "cell_type": "markdown",
   "metadata": {},
   "source": [
    "## Princípio da Programação Estruturada\n",
    "\n",
    "**Qualquer algoritmo pode ser escrito combinando-se blocos formados por estruturas de controle**"
   ]
  },
  {
   "cell_type": "markdown",
   "metadata": {},
   "source": [
    "### Estrutura de Sequência\n",
    "\n",
    "1. Define que as instruções do programa São executadas sequencialmente, de cima para baixo, linha a linha, de forma sequêncial.\n",
    "\n",
    "### Estrutura de Seleção\n",
    "1. Permite que o fluxo de execução das instruções seja executado de acordo com uma condição lógica que é avaliada e, caso seja verdadeira, permite que uma ou um grupo de instruções sejam executados.\n",
    "\n",
    "### Estrutura de Repetição\n",
    "1. Permite que uma ou um grupo de instruções sejam executados repedidamente, de acordo com uma condição lógica."
   ]
  },
  {
   "cell_type": "markdown",
   "metadata": {},
   "source": [
    "### Programação Sequêncial\n",
    " O fluxo de controle de um programa estruturado é feito de bloco em bloco, sequencialmente, em que o bloco pode ser:\n",
    " 1. Uma instrução, um conjunto de instruções;\n",
    " 2. Um aninhamento de outros blocos, uma rotina (função), um programa."
   ]
  },
  {
   "cell_type": "markdown",
   "metadata": {},
   "source": [
    "### Estrutura de Controle\n",
    "Na programação estruturada, a estrutura está baseada num pequeno número de estruturas de controle:\n",
    "1. Sequencial;\n",
    "2. Decisão;\n",
    "3. Seleção múltipla;\n",
    "4. Iteração do tipo enquanto-faça;\n",
    "5. Iteração do tipo repita-enquanto"
   ]
  },
  {
   "cell_type": "code",
   "execution_count": null,
   "metadata": {},
   "outputs": [],
   "source": []
  }
 ],
 "metadata": {
  "kernelspec": {
   "display_name": "Python 3",
   "language": "python",
   "name": "python3"
  },
  "language_info": {
   "codemirror_mode": {
    "name": "ipython",
    "version": 3
   },
   "file_extension": ".py",
   "mimetype": "text/x-python",
   "name": "python",
   "nbconvert_exporter": "python",
   "pygments_lexer": "ipython3",
   "version": "3.5.2"
  }
 },
 "nbformat": 4,
 "nbformat_minor": 2
}
